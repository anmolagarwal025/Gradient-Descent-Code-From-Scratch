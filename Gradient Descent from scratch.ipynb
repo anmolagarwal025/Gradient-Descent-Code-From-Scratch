{
  "nbformat": 4,
  "nbformat_minor": 0,
  "metadata": {
    "colab": {
      "name": "Untitled1.ipynb",
      "provenance": [],
      "collapsed_sections": []
    },
    "kernelspec": {
      "name": "python3",
      "display_name": "Python 3"
    },
    "language_info": {
      "name": "python"
    }
  },
  "cells": [
    {
      "cell_type": "code",
      "execution_count": 1,
      "metadata": {
        "id": "em6pfEaq15F2"
      },
      "outputs": [],
      "source": [
        "import pandas as pd\n",
        "import seaborn as sns\n",
        "import numpy as np\n",
        "import matplotlib.pyplot as plt\n",
        "from sklearn.datasets import make_regression\n",
        "from sklearn.model_selection import train_test_split\n",
        "from sklearn.linear_model import LinearRegression\n",
        "from sklearn.linear_model import SGDRegressor"
      ]
    },
    {
      "cell_type": "code",
      "source": [
        "X,y = make_regression(n_samples=4,n_features=1,n_informative=1,n_targets=1,noise=80,random_state=13) "
      ],
      "metadata": {
        "id": "x5ZgfDbc2CW1"
      },
      "execution_count": 2,
      "outputs": []
    },
    {
      "cell_type": "code",
      "source": [
        "print(X.shape) \n",
        "print(y.shape) "
      ],
      "metadata": {
        "colab": {
          "base_uri": "https://localhost:8080/"
        },
        "id": "YXxz31sx2XNR",
        "outputId": "17025baa-3e35-4705-d438-50cf02858b34"
      },
      "execution_count": 3,
      "outputs": [
        {
          "output_type": "stream",
          "name": "stdout",
          "text": [
            "(4, 1)\n",
            "(4,)\n"
          ]
        }
      ]
    },
    {
      "cell_type": "code",
      "source": [
        "sns.set() \n",
        "plt.scatter(X,y)\n",
        "plt.show() "
      ],
      "metadata": {
        "colab": {
          "base_uri": "https://localhost:8080/",
          "height": 268
        },
        "id": "6RqPJtPw2ZoK",
        "outputId": "0664f4c5-d7eb-49e9-a1e9-16a6c8d1140d"
      },
      "execution_count": 4,
      "outputs": [
        {
          "output_type": "display_data",
          "data": {
            "text/plain": [
              "<Figure size 432x288 with 1 Axes>"
            ],
            "image/png": "[encoded data removed]"
          },
          "metadata": {}
        }
      ]
    },
    {
      "cell_type": "code",
      "source": [
        "lr = LinearRegression()"
      ],
      "metadata": {
        "id": "QoqnSowo2dP2"
      },
      "execution_count": 5,
      "outputs": []
    },
    {
      "cell_type": "code",
      "source": [
        "lr.fit(X,y)"
      ],
      "metadata": {
        "colab": {
          "base_uri": "https://localhost:8080/"
        },
        "id": "Kn9ijcxF8dyf",
        "outputId": "1c9c6307-4a8d-4260-c7f3-2b8a75663e17"
      },
      "execution_count": 6,
      "outputs": [
        {
          "output_type": "execute_result",
          "data": {
            "text/plain": [
              "LinearRegression()"
            ]
          },
          "metadata": {},
          "execution_count": 6
        }
      ]
    },
    {
      "cell_type": "code",
      "source": [
        "lr.coef_"
      ],
      "metadata": {
        "colab": {
          "base_uri": "https://localhost:8080/"
        },
        "id": "8vAT6VVo8sBC",
        "outputId": "5b1ba759-b2f4-4fc6-f525-4df08cfe7ef3"
      },
      "execution_count": 7,
      "outputs": [
        {
          "output_type": "execute_result",
          "data": {
            "text/plain": [
              "array([78.35063668])"
            ]
          },
          "metadata": {},
          "execution_count": 7
        }
      ]
    },
    {
      "cell_type": "code",
      "source": [
        "lr.intercept_"
      ],
      "metadata": {
        "colab": {
          "base_uri": "https://localhost:8080/"
        },
        "id": "aH2PS2l47UmA",
        "outputId": "27cd8782-31a9-4627-9a9c-15cba94fcac9"
      },
      "execution_count": 8,
      "outputs": [
        {
          "output_type": "execute_result",
          "data": {
            "text/plain": [
              "26.15963284313262"
            ]
          },
          "metadata": {},
          "execution_count": 8
        }
      ]
    },
    {
      "cell_type": "code",
      "source": [
        "plt.scatter(X,y)\n",
        "plt.plot(X,lr.predict(X),color='red') "
      ],
      "metadata": {
        "colab": {
          "base_uri": "https://localhost:8080/",
          "height": 286
        },
        "id": "kfB_yzVb9C9K",
        "outputId": "004e5839-45a6-42fb-9671-bd6d58fa06fb"
      },
      "execution_count": 9,
      "outputs": [
        {
          "output_type": "execute_result",
          "data": {
            "text/plain": [
              "[<matplotlib.lines.Line2D at 0x7f6ba98fac90>]"
            ]
          },
          "metadata": {},
          "execution_count": 9
        },
        {
          "output_type": "display_data",
          "data": {
            "text/plain": [
              "<Figure size 432x288 with 1 Axes>"
            ],
            "image/png": "[encoded data removed]"
          },
          "metadata": {}
        }
      ]
    },
    {
      "cell_type": "code",
      "source": [
        "# First let's put b = 0 and see where our line plots\n",
        "b = 0\n",
        "y_pred = ((78.35*X) + b).reshape(4)\n",
        "y_pred"
      ],
      "metadata": {
        "colab": {
          "base_uri": "https://localhost:8080/"
        },
        "id": "QjTzAIBg7WYM",
        "outputId": "482f4370-ce3f-41b9-8d3f-ebaed80d8542"
      },
      "execution_count": 10,
      "outputs": [
        {
          "output_type": "execute_result",
          "data": {
            "text/plain": [
              "array([-55.81580837,  35.39949674,  -3.48681619,  59.05759577])"
            ]
          },
          "metadata": {},
          "execution_count": 10
        }
      ]
    },
    {
      "cell_type": "code",
      "source": [
        "#let's plot these two lines\n",
        "#plt.figure(figsize=(10,5))\n",
        "plt.scatter(X,y)\n",
        "plt.plot(X,lr.predict(X),label='OLS')\n",
        "plt.plot(X,y_pred,label='b=0')\n",
        "plt.legend() \n",
        "plt.show() "
      ],
      "metadata": {
        "colab": {
          "base_uri": "https://localhost:8080/",
          "height": 268
        },
        "id": "_yRPlkIoBZtB",
        "outputId": "eb14a04e-c23b-475d-ef7a-7a5cea8adbd5"
      },
      "execution_count": 11,
      "outputs": [
        {
          "output_type": "display_data",
          "data": {
            "text/plain": [
              "<Figure size 432x288 with 1 Axes>"
            ],
            "image/png": "[encoded data removed]"
          },
          "metadata": {}
        }
      ]
    },
    {
      "cell_type": "code",
      "source": [
        "# Now let's put b=100 and see where our line plots\n",
        "b=100\n",
        "y_pred1 = ((78.35*X) + b).reshape(4)\n",
        "y_pred1"
      ],
      "metadata": {
        "colab": {
          "base_uri": "https://localhost:8080/"
        },
        "id": "qQWEQrRqBwXC",
        "outputId": "e8cf026f-17f7-4686-a9dd-bca3667a132e"
      },
      "execution_count": 12,
      "outputs": [
        {
          "output_type": "execute_result",
          "data": {
            "text/plain": [
              "array([ 44.18419163, 135.39949674,  96.51318381, 159.05759577])"
            ]
          },
          "metadata": {},
          "execution_count": 12
        }
      ]
    },
    {
      "cell_type": "code",
      "source": [
        "# let's all three lines\n",
        "#plt.figure(figsize=(10,5))\n",
        "plt.scatter(X,y)\n",
        "plt.plot(X,lr.predict(X),label='OLS')\n",
        "plt.plot(X,y_pred,label='b=0')\n",
        "plt.plot(X,y_pred1,label='b=100')\n",
        "plt.legend() \n",
        "plt.show() "
      ],
      "metadata": {
        "colab": {
          "base_uri": "https://localhost:8080/",
          "height": 268
        },
        "id": "n6TrkTWwDAOL",
        "outputId": "04eb2b56-2623-455a-86a3-04d9643e95d1"
      },
      "execution_count": 13,
      "outputs": [
        {
          "output_type": "display_data",
          "data": {
            "text/plain": [
              "<Figure size 432x288 with 1 Axes>"
            ],
            "image/png": "[encoded data removed]"
          },
          "metadata": {}
        }
      ]
    },
    {
      "cell_type": "code",
      "source": [
        "# Now let calculate the loss slope using differential equ of linear regression \n",
        "m = 78.35; b = 0\n",
        "loss_slope = -2* np.sum(y - m*X.ravel() - b) \n",
        "loss_slope"
      ],
      "metadata": {
        "colab": {
          "base_uri": "https://localhost:8080/"
        },
        "id": "lbi2p1Q4DKqV",
        "outputId": "72ff90c3-660d-4e0a-a2d4-17baa46e1b14"
      },
      "execution_count": 14,
      "outputs": [
        {
          "output_type": "execute_result",
          "data": {
            "text/plain": [
              "-209.27763408209216"
            ]
          },
          "metadata": {},
          "execution_count": 14
        }
      ]
    },
    {
      "cell_type": "code",
      "source": [
        "# now let's take learning rate\n",
        "learning_rate = 0.1\n",
        "step_size = loss_slope*learning_rate\n",
        "step_size"
      ],
      "metadata": {
        "colab": {
          "base_uri": "https://localhost:8080/"
        },
        "id": "7n2BCJLmFRPY",
        "outputId": "21bdd59e-f149-443d-a379-b1e1ad7847c8"
      },
      "execution_count": 15,
      "outputs": [
        {
          "output_type": "execute_result",
          "data": {
            "text/plain": [
              "-20.927763408209216"
            ]
          },
          "metadata": {},
          "execution_count": 15
        }
      ]
    },
    {
      "cell_type": "code",
      "source": [
        "# Now let's calculate new b\n",
        "b = b - step_size\n",
        "b"
      ],
      "metadata": {
        "colab": {
          "base_uri": "https://localhost:8080/"
        },
        "id": "fCX8BENkFcWq",
        "outputId": "08e28898-b9c3-4668-b714-28aa7cba1860"
      },
      "execution_count": 16,
      "outputs": [
        {
          "output_type": "execute_result",
          "data": {
            "text/plain": [
              "20.927763408209216"
            ]
          },
          "metadata": {},
          "execution_count": 16
        }
      ]
    },
    {
      "cell_type": "code",
      "source": [
        "# Now we have new b let's calculate new y_pred and see where our line plots\n",
        "y_pred2 = (m*X + b).reshape(4)\n",
        "y_pred2"
      ],
      "metadata": {
        "colab": {
          "base_uri": "https://localhost:8080/"
        },
        "id": "s0txMUrHJtbW",
        "outputId": "2e379fe1-3914-436d-da37-d692647a41cf"
      },
      "execution_count": 17,
      "outputs": [
        {
          "output_type": "execute_result",
          "data": {
            "text/plain": [
              "array([-34.88804496,  56.32726015,  17.44094722,  79.98535918])"
            ]
          },
          "metadata": {},
          "execution_count": 17
        }
      ]
    },
    {
      "cell_type": "code",
      "source": [
        "plt.scatter(X,y)\n",
        "plt.plot(X,lr.predict(X),label='OLS')\n",
        "plt.plot(X,y_pred,label='b=0')\n",
        "plt.plot(X,y_pred2,label='b=20.92')\n",
        "plt.legend() \n",
        "plt.show() "
      ],
      "metadata": {
        "colab": {
          "base_uri": "https://localhost:8080/",
          "height": 268
        },
        "id": "q7XMHWy1Khf7",
        "outputId": "eb632c62-e355-4dd4-98a5-8490dd8346e0"
      },
      "execution_count": 18,
      "outputs": [
        {
          "output_type": "display_data",
          "data": {
            "text/plain": [
              "<Figure size 432x288 with 1 Axes>"
            ],
            "image/png": "[encoded data removed]"
          },
          "metadata": {}
        }
      ]
    },
    {
      "cell_type": "code",
      "source": [
        "# Now let's calculate again for b = 20.92 new value which we get above \n",
        "loss_slope1 = -2 * np.sum(y - m*X.ravel() - b)\n",
        "loss_slope1"
      ],
      "metadata": {
        "colab": {
          "base_uri": "https://localhost:8080/"
        },
        "id": "7VLisDbjKyBm",
        "outputId": "f9b417fa-ce74-4334-ef18-f5292d60803a"
      },
      "execution_count": 19,
      "outputs": [
        {
          "output_type": "execute_result",
          "data": {
            "text/plain": [
              "-41.85552681641843"
            ]
          },
          "metadata": {},
          "execution_count": 19
        }
      ]
    },
    {
      "cell_type": "code",
      "source": [
        "# calculateing step_size with new learning rate1*loss_slope1\n",
        "learning_rate1 = 0.1\n",
        "step_size1 = learning_rate1*loss_slope1\n",
        "step_size1"
      ],
      "metadata": {
        "colab": {
          "base_uri": "https://localhost:8080/"
        },
        "id": "Sc04UfSyMR8H",
        "outputId": "3845749c-77a9-40dc-94d5-67fe997bc818"
      },
      "execution_count": 20,
      "outputs": [
        {
          "output_type": "execute_result",
          "data": {
            "text/plain": [
              "-4.185552681641844"
            ]
          },
          "metadata": {},
          "execution_count": 20
        }
      ]
    },
    {
      "cell_type": "code",
      "source": [
        "# New value for b\n",
        "b = b - step_size1\n",
        "b"
      ],
      "metadata": {
        "colab": {
          "base_uri": "https://localhost:8080/"
        },
        "id": "dcWAJZAwMW39",
        "outputId": "6583c510-2ddd-4fc2-dd21-ace3a8c4a3d3"
      },
      "execution_count": 21,
      "outputs": [
        {
          "output_type": "execute_result",
          "data": {
            "text/plain": [
              "25.11331608985106"
            ]
          },
          "metadata": {},
          "execution_count": 21
        }
      ]
    },
    {
      "cell_type": "code",
      "source": [
        "# now let's again calculate the value for y_pred and let's see where our line will plot\n",
        "y_pred3 = (m*X + b).reshape(4)\n",
        "y_pred3"
      ],
      "metadata": {
        "colab": {
          "base_uri": "https://localhost:8080/"
        },
        "id": "2WPLbX6zNpbf",
        "outputId": "e187b52e-bfde-4b1e-9fa2-41d7e50e8cc5"
      },
      "execution_count": 22,
      "outputs": [
        {
          "output_type": "execute_result",
          "data": {
            "text/plain": [
              "array([-30.70249228,  60.51281283,  21.6264999 ,  84.17091186])"
            ]
          },
          "metadata": {},
          "execution_count": 22
        }
      ]
    },
    {
      "cell_type": "code",
      "source": [
        "plt.scatter(X,y)\n",
        "plt.plot(X,lr.predict(X),label='OLS')\n",
        "plt.plot(X,y_pred,label='b=0')\n",
        "plt.plot(X,y_pred2,label='b=29.92')\n",
        "plt.plot(X,y_pred3,label='b=29.29')\n",
        "plt.legend() \n",
        "plt.show() "
      ],
      "metadata": {
        "colab": {
          "base_uri": "https://localhost:8080/",
          "height": 268
        },
        "id": "gw9z8rXpOA3Z",
        "outputId": "58759e10-0d2a-4e89-8547-455a121654cb"
      },
      "execution_count": 23,
      "outputs": [
        {
          "output_type": "display_data",
          "data": {
            "text/plain": [
              "<Figure size 432x288 with 1 Axes>"
            ],
            "image/png": "[encoded data removed]"
          },
          "metadata": {}
        }
      ]
    },
    {
      "cell_type": "code",
      "source": [
        "# Now Let's calculate for one more time \n",
        "# value for loss slope\n",
        "loss_slope2 = -2* np.sum(y - m*X.ravel() - b)\n",
        "print(loss_slope2)\n",
        "# value for step size\n",
        "learning_rate2 = 0.1\n",
        "step_size2 = learning_rate2*loss_slope2\n",
        "print(step_size2)\n",
        "#value for b \n",
        "b = b - step_size2\n",
        "print(b) "
      ],
      "metadata": {
        "colab": {
          "base_uri": "https://localhost:8080/"
        },
        "id": "mluMA8CfOTPU",
        "outputId": "0471b7ef-b9c3-4ba4-a680-2365261c0d23"
      },
      "execution_count": 24,
      "outputs": [
        {
          "output_type": "stream",
          "name": "stdout",
          "text": [
            "-8.371105363283675\n",
            "-0.8371105363283675\n",
            "25.95042662617943\n"
          ]
        }
      ]
    },
    {
      "cell_type": "code",
      "source": [
        "# Now calculate y_pred and let's that finally our line convergence or not \n",
        "y_pred4 = (m*X + b).reshape(4)\n",
        "\n",
        "plt.scatter(X,y)\n",
        "plt.plot(X,lr.predict(X),label='OLS')\n",
        "plt.plot(X,y_pred,label='b=0')\n",
        "plt.plot(X,y_pred2,label='b=29.92')\n",
        "plt.plot(X,y_pred3,label='b=25.11')\n",
        "plt.plot(X,y_pred4,label='b=25.95')\n",
        "plt.legend() \n",
        "plt.show() "
      ],
      "metadata": {
        "colab": {
          "base_uri": "https://localhost:8080/",
          "height": 268
        },
        "id": "_FA5ozCKQsSs",
        "outputId": "10441be6-a3c5-4030-ed16-e108bc566a6a"
      },
      "execution_count": 25,
      "outputs": [
        {
          "output_type": "display_data",
          "data": {
            "text/plain": [
              "<Figure size 432x288 with 1 Axes>"
            ],
            "image/png": "[encoded data removed]"
          },
          "metadata": {}
        }
      ]
    },
    {
      "cell_type": "code",
      "source": [
        "# Now Let's write all the above using for loop\n",
        "'''epochs = 3\n",
        "learning_rate_ = 0.1\n",
        "b_ = 0\n",
        "m = 78.95\n",
        "for i in range(epochs):\n",
        "  loss_slope_ = -2* np.sum(y - m*X.ravel() - b_)\n",
        "  step_size_ = learning_rate_*loss_slope_\n",
        "  b_ = b_ - step_size_\n",
        "\n",
        "  y_pred_ = (m*X + b_).reshape(len(X))\n",
        "  plt.plot(X,y_pred_,label = b_)\n",
        "  plt.legend() \n",
        "\n",
        "plt.scatter(X,y)\n",
        "plt.show()\n",
        "#print(loss_slope_)\n",
        "#print(step_size_)\n",
        "#print(b_)'''"
      ],
      "metadata": {
        "colab": {
          "base_uri": "https://localhost:8080/",
          "height": 72
        },
        "id": "5rfzPNSNRwzv",
        "outputId": "41d00c90-7014-4173-d4b7-4a8916c4bac3"
      },
      "execution_count": 26,
      "outputs": [
        {
          "output_type": "execute_result",
          "data": {
            "text/plain": [
              "'epochs = 3\\nlearning_rate_ = 0.1\\nb_ = 0\\nm = 78.95\\nfor i in range(epochs):\\n  loss_slope_ = -2* np.sum(y - m*X.ravel() - b_)\\n  step_size_ = learning_rate_*loss_slope_\\n  b_ = b_ - step_size_\\n\\n  y_pred_ = (m*X + b_).reshape(len(X))\\n  plt.plot(X,y_pred_,label = b_)\\n  plt.legend() \\n\\nplt.scatter(X,y)\\nplt.show()\\n#print(loss_slope_)\\n#print(step_size_)\\n#print(b_)'"
            ],
            "application/vnd.google.colaboratory.intrinsic+json": {
              "type": "string"
            }
          },
          "metadata": {},
          "execution_count": 26
        }
      ]
    },
    {
      "cell_type": "code",
      "source": [
        "# Now let's Make CLASS for GD in this class we will only find value of b (intercept) while keeping m (slope) fixed.\n",
        "class meraGD:\n",
        "  def __init__(self,Epochs,LearningRate):\n",
        "    self.Epochs = Epochs\n",
        "    self.LearningRate = LearningRate\n",
        "    self.m_ = 78.95\n",
        "    self.b_ = 0\n",
        "  \n",
        "  def fit(self,X,y):\n",
        "    for i in range(self.Epochs):\n",
        "      loss_slope_ = -2* np.sum(y - self.m_*X.ravel() - self.b_)\n",
        "      step_size_ = self.LearningRate*loss_slope_\n",
        "      self.b_ = self.b_ - step_size_\n",
        "      #print(loss_slope_,self.b_)\n",
        "    return self.b_\n",
        "\n",
        "  def predict(self,X):\n",
        "    return (self.m_*X + self.b_).reshape(len(X))"
      ],
      "metadata": {
        "id": "5_GqJUUOTcg1"
      },
      "execution_count": 27,
      "outputs": []
    },
    {
      "cell_type": "code",
      "source": [
        "GD = meraGD(10,0.01)"
      ],
      "metadata": {
        "id": "up7rIuQCZxPq"
      },
      "execution_count": 28,
      "outputs": []
    },
    {
      "cell_type": "code",
      "source": [
        "GD.fit(X,y)"
      ],
      "metadata": {
        "colab": {
          "base_uri": "https://localhost:8080/"
        },
        "id": "8KPEzI6FalF2",
        "outputId": "f484aa51-b11f-4d26-fbc2-cbf3cf01214a"
      },
      "execution_count": 29,
      "outputs": [
        {
          "output_type": "execute_result",
          "data": {
            "text/plain": [
              "14.758163553186582"
            ]
          },
          "metadata": {},
          "execution_count": 29
        }
      ]
    },
    {
      "cell_type": "code",
      "source": [
        "GD.predict(X)"
      ],
      "metadata": {
        "colab": {
          "base_uri": "https://localhost:8080/"
        },
        "id": "xHcrQ2nharyz",
        "outputId": "e87241d3-2d21-4306-e13d-87bb3a682de6"
      },
      "execution_count": 30,
      "outputs": [
        {
          "output_type": "execute_result",
          "data": {
            "text/plain": [
              "array([-41.48507922,  50.4287477 ,  11.24464552,  74.26801915])"
            ]
          },
          "metadata": {},
          "execution_count": 30
        }
      ]
    },
    {
      "cell_type": "code",
      "source": [
        "# Now lets's Import the bigger dataset and apply the same above class for it\n",
        "\n",
        "X1,y1 = make_regression(n_samples=100,n_features=1,n_informative=1,n_targets=1,noise=20)"
      ],
      "metadata": {
        "id": "_YVH_Iuzb9Mi"
      },
      "execution_count": 31,
      "outputs": []
    },
    {
      "cell_type": "code",
      "source": [
        "plt.scatter(X1,y1)"
      ],
      "metadata": {
        "colab": {
          "base_uri": "https://localhost:8080/",
          "height": 286
        },
        "id": "hd_-CeWkzEql",
        "outputId": "0c0ef8f7-19e2-4df4-e470-d66cf70fe97a"
      },
      "execution_count": 32,
      "outputs": [
        {
          "output_type": "execute_result",
          "data": {
            "text/plain": [
              "<matplotlib.collections.PathCollection at 0x7f6ba90da790>"
            ]
          },
          "metadata": {},
          "execution_count": 32
        },
        {
          "output_type": "display_data",
          "data": {
            "text/plain": [
              "<Figure size 432x288 with 1 Axes>"
            ],
            "image/png": "[encoded data removed]"
          },
          "metadata": {}
        }
      ]
    },
    {
      "cell_type": "code",
      "source": [
        "#Now let's first calculate the values using sklearn linear regression to comapre with our class later\n",
        "lr1 = LinearRegression()"
      ],
      "metadata": {
        "id": "FzgyEYAuzHuW"
      },
      "execution_count": 33,
      "outputs": []
    },
    {
      "cell_type": "code",
      "source": [
        "lr1.fit(X1,y1)"
      ],
      "metadata": {
        "colab": {
          "base_uri": "https://localhost:8080/"
        },
        "id": "u-1bCjxS1HSQ",
        "outputId": "8e659a72-699f-4987-ace9-ba5369dffc38"
      },
      "execution_count": 34,
      "outputs": [
        {
          "output_type": "execute_result",
          "data": {
            "text/plain": [
              "LinearRegression()"
            ]
          },
          "metadata": {},
          "execution_count": 34
        }
      ]
    },
    {
      "cell_type": "code",
      "source": [
        "lr1.predict(X)"
      ],
      "metadata": {
        "colab": {
          "base_uri": "https://localhost:8080/"
        },
        "id": "1yYwcsnz59bY",
        "outputId": "09308d66-8d44-4b79-8e2d-8ea4d7de9925"
      },
      "execution_count": 35,
      "outputs": [
        {
          "output_type": "execute_result",
          "data": {
            "text/plain": [
              "array([-7.02317652,  9.78022457,  2.6167084 , 14.13844632])"
            ]
          },
          "metadata": {},
          "execution_count": 35
        }
      ]
    },
    {
      "cell_type": "code",
      "source": [
        "lr1.coef_"
      ],
      "metadata": {
        "colab": {
          "base_uri": "https://localhost:8080/"
        },
        "id": "pMlcTh9y1lT5",
        "outputId": "7224e22d-1b45-4ab9-d684-366fe646bd45"
      },
      "execution_count": 36,
      "outputs": [
        {
          "output_type": "execute_result",
          "data": {
            "text/plain": [
              "array([14.43339441])"
            ]
          },
          "metadata": {},
          "execution_count": 36
        }
      ]
    },
    {
      "cell_type": "code",
      "source": [
        "lr1.intercept_"
      ],
      "metadata": {
        "colab": {
          "base_uri": "https://localhost:8080/"
        },
        "id": "dPoK0V1O1oRj",
        "outputId": "6b417bc6-5769-4ea9-ee32-27bd3d1134ea"
      },
      "execution_count": 37,
      "outputs": [
        {
          "output_type": "execute_result",
          "data": {
            "text/plain": [
              "3.259038884935119"
            ]
          },
          "metadata": {},
          "execution_count": 37
        }
      ]
    },
    {
      "cell_type": "code",
      "source": [
        "# Now lets build the above class again for this datasets\n",
        "class meraGD1:\n",
        "  def __init__(self,Epochs,LearningRate):\n",
        "    self.Epochs = Epochs\n",
        "    self.LearningRate = LearningRate\n",
        "    self.m_ = 29.56\n",
        "    self.b_ = -120\n",
        "  \n",
        "  def fit(self,X1,y1):\n",
        "    for i in range(self.Epochs):\n",
        "      loss_slope_ = -2* np.sum(y1 - self.m_*X1.ravel() - self.b_) \n",
        "      step_size_ = self.LearningRate*loss_slope_\n",
        "      self.b_ = self.b_ - step_size_\n",
        "      #print(loss_slope_,self.b_)\n",
        "    return self.b_\n",
        "\n",
        "  def predict(self,X1):\n",
        "    return (self.m_*X1 + self.b_).reshape(len(X1))"
      ],
      "metadata": {
        "id": "jAt8sHk11qsN"
      },
      "execution_count": 38,
      "outputs": []
    },
    {
      "cell_type": "code",
      "source": [
        "GD1 = meraGD1(100,0.001)"
      ],
      "metadata": {
        "id": "4MKHpV516TJj"
      },
      "execution_count": 39,
      "outputs": []
    },
    {
      "cell_type": "code",
      "source": [
        "GD1.fit(X1,y1)"
      ],
      "metadata": {
        "colab": {
          "base_uri": "https://localhost:8080/"
        },
        "id": "Qp70KNbL6ag1",
        "outputId": "dfe95e8c-b3bd-4902-d778-85a18166bcbc"
      },
      "execution_count": 40,
      "outputs": [
        {
          "output_type": "execute_result",
          "data": {
            "text/plain": [
              "3.4469396828530776"
            ]
          },
          "metadata": {},
          "execution_count": 40
        }
      ]
    },
    {
      "cell_type": "code",
      "source": [
        "GD1.predict(X1)"
      ],
      "metadata": {
        "id": "pgf0u-JT6hKl",
        "colab": {
          "base_uri": "https://localhost:8080/"
        },
        "outputId": "e8d0ec77-f88c-4f29-b4e8-0ff04289fc8f"
      },
      "execution_count": 41,
      "outputs": [
        {
          "output_type": "execute_result",
          "data": {
            "text/plain": [
              "array([-7.78890683e+00, -7.49528820e+00, -2.11948247e+01,  4.64099990e+01,\n",
              "       -5.30468106e+00, -4.13010432e+01,  4.49441595e+01, -1.95426801e+01,\n",
              "        1.55562421e+01,  5.03878545e+01,  5.06725874e+00,  2.75058644e+00,\n",
              "       -4.99496458e+00,  1.70894353e+01,  4.70054343e+01,  4.56244392e+01,\n",
              "        1.62633059e+01,  6.34192988e+00,  2.05755864e+01, -4.14454421e+01,\n",
              "       -8.92766375e+00,  2.54220713e+00, -2.14739741e+00, -1.67937705e+01,\n",
              "       -1.93665746e+01,  2.91866257e+01,  2.21896099e+00,  2.15032772e+01,\n",
              "        4.11046511e+00, -7.75619138e+00,  1.04344658e+01, -3.60256676e+00,\n",
              "        3.23306614e+01,  3.31487100e+01,  2.24520745e+01,  6.96258155e+00,\n",
              "       -7.97002288e+00, -8.53601559e+00, -2.64778000e+01,  1.51819493e+01,\n",
              "        1.82688075e+01,  2.28640177e+01, -1.03239369e+02,  1.34003630e+01,\n",
              "        2.89193193e+01,  2.18523344e+01, -3.74604821e+00, -2.36904240e+01,\n",
              "        5.71970161e+00,  5.21980168e+01, -6.40423384e+01, -1.68544363e+01,\n",
              "        1.55132510e+00,  1.65981844e+01,  2.52470821e+00, -3.22907228e+00,\n",
              "        1.15102717e+01, -2.79362721e+01,  1.98887820e+01, -1.60205518e+01,\n",
              "        1.10945870e+01, -1.25368231e+01,  3.79981337e+01,  1.06029219e+01,\n",
              "        1.91008112e+01,  3.71635748e+01,  3.47624600e+01,  3.84349922e+01,\n",
              "       -1.40201268e+01,  4.53198942e+01, -4.35884579e+01, -2.63077882e+01,\n",
              "        1.98024922e+01,  2.49863314e+01, -4.50203683e+01, -9.67702917e+00,\n",
              "       -5.60449238e-02,  6.64711673e+01, -2.16289956e+01,  3.49954456e+01,\n",
              "        1.88490680e+01, -1.47691128e+01,  2.15208207e+01, -5.84325991e+01,\n",
              "        1.04807711e+01, -3.51923837e+01, -5.45747458e+01, -2.90315197e+01,\n",
              "        2.11616084e+01,  2.51533764e-01,  1.22572091e+01,  5.24432187e+00,\n",
              "        3.85043433e+01, -5.33367050e+01,  2.89031970e+01, -2.18025132e+01,\n",
              "       -3.46215377e-01, -2.73677448e+00, -6.67417536e+00,  1.58219004e+01])"
            ]
          },
          "metadata": {},
          "execution_count": 41
        }
      ]
    },
    {
      "cell_type": "code",
      "source": [
        "#In the above class we have calculate the value of only b while keeping value of m fixed or predetermine ..\n",
        "#But now we will create the class and calculate the value for m and b both we will write logic for both.\n",
        "\n",
        "class meraGD2:\n",
        "\n",
        "  def __init__(self,epochs,learningrate):\n",
        "    self.epochs = epochs\n",
        "    self.learningrate = learningrate\n",
        "    self.m1 = 100\n",
        "    self.b1 = -120\n",
        "\n",
        "  def fit(self,X1,y1):\n",
        "    for i in range(self.epochs):\n",
        "      loss_slope_b = -2* np.sum(y1 - self.m1* X1.ravel() - self.b1)\n",
        "      loss_slope_m = -2* np.sum((y1 -self.m1* X1.ravel() - self.b1)* X1.ravel())\n",
        "      step_size_b = self.learningrate* loss_slope_b\n",
        "      step_size_m = self.learningrate* loss_slope_m\n",
        "      self.b1 = self.b1 - step_size_b\n",
        "      self.m1 = self.m1 - step_size_m\n",
        "    return self.b1,self.m1\n",
        "\n",
        "  def predict(self,X1):\n",
        "    return self.m1* X1 + self.b1"
      ],
      "metadata": {
        "id": "P9I_NJCk6wSi"
      },
      "execution_count": 42,
      "outputs": []
    },
    {
      "cell_type": "code",
      "source": [
        "GD2 = meraGD2(100,0.001)"
      ],
      "metadata": {
        "id": "fH7kVqYvfp12"
      },
      "execution_count": 43,
      "outputs": []
    },
    {
      "cell_type": "code",
      "source": [
        "GD2.fit(X1,y1)"
      ],
      "metadata": {
        "colab": {
          "base_uri": "https://localhost:8080/"
        },
        "id": "H3fsiB-Rh3Tb",
        "outputId": "974012f3-d333-445a-816a-68178d47da26"
      },
      "execution_count": 44,
      "outputs": [
        {
          "output_type": "execute_result",
          "data": {
            "text/plain": [
              "(3.2590388728993664, 14.433394500208477)"
            ]
          },
          "metadata": {},
          "execution_count": 44
        }
      ]
    },
    {
      "cell_type": "code",
      "source": [
        "GD2.predict(X1).ravel()"
      ],
      "metadata": {
        "colab": {
          "base_uri": "https://localhost:8080/"
        },
        "id": "UK1rgYSAi2Lq",
        "outputId": "5d9fbfe5-421f-4fb3-b914-d67024f74337"
      },
      "execution_count": 45,
      "outputs": [
        {
          "output_type": "execute_result",
          "data": {
            "text/plain": [
              "array([-2.22713857e+00, -2.08377208e+00, -8.77290656e+00,  2.42368056e+01,\n",
              "       -1.01415445e+00, -1.85902605e+01,  2.35210735e+01, -7.96620645e+00,\n",
              "        9.17170258e+00,  2.61790910e+01,  4.05019936e+00,  2.91902733e+00,\n",
              "       -8.62927790e-01,  9.92032175e+00,  2.45275415e+01,  2.38532367e+01,\n",
              "        9.51694380e+00,  4.67258879e+00,  1.16225204e+01, -1.86607668e+01,\n",
              "       -2.78316455e+00,  2.81728103e+00,  5.27466673e-01, -6.62398394e+00,\n",
              "       -7.88021863e+00,  1.58270714e+01,  2.65944818e+00,  1.20754882e+01,\n",
              "        3.58302143e+00, -2.21116445e+00,  6.67086976e+00, -1.83055428e-01,\n",
              "        1.73622239e+01,  1.77616562e+01,  1.25387618e+01,  4.97563718e+00,\n",
              "       -2.31557292e+00, -2.59193273e+00, -1.13524487e+01,  8.98894492e+00,\n",
              "        1.04961791e+01,  1.27399031e+01, -4.88331663e+01,  8.11904175e+00,\n",
              "        1.56965525e+01,  1.22459240e+01, -2.53113761e-01, -9.99144409e+00,\n",
              "        4.36877059e+00,  2.70629471e+01, -2.96942553e+01, -6.65360550e+00,\n",
              "        2.33345859e+00,  9.68045641e+00,  2.80873675e+00, -6.87592861e-04,\n",
              "        7.19615836e+00, -1.20645835e+01,  1.12871713e+01, -6.24644099e+00,\n",
              "        6.99319011e+00, -4.54542505e+00,  2.01295062e+01,  6.75312256e+00,\n",
              "        1.09024253e+01,  1.97220124e+01,  1.85496092e+01,  2.03428130e+01,\n",
              "       -5.26968444e+00,  2.37045352e+01, -1.97071468e+01, -1.12694363e+01,\n",
              "        1.12450382e+01,  1.37761748e+01, -2.04063122e+01, -3.14906058e+00,\n",
              "        1.54862078e+00,  3.40321627e+01, -8.98490114e+00,  1.86633701e+01,\n",
              "        1.07795055e+01, -5.63539523e+00,  1.20840542e+01, -2.69551626e+01,\n",
              "        6.69347947e+00, -1.56075578e+01, -2.50714712e+01, -1.25993649e+01,\n",
              "        1.19086601e+01,  1.69880362e+00,  7.56086886e+00,  4.13665478e+00,\n",
              "        2.03766754e+01, -2.44669674e+01,  1.56886804e+01, -9.06962536e+00,\n",
              "        1.40693795e+00,  2.39688874e-01, -1.68284361e+00,  9.30141672e+00])"
            ]
          },
          "metadata": {},
          "execution_count": 45
        }
      ]
    },
    {
      "cell_type": "markdown",
      "source": [
        "# We can see that our model and sklearn in-built model our giving the same results."
      ],
      "metadata": {
        "id": "dp0p7Ij4owrZ"
      }
    }
  ]
}